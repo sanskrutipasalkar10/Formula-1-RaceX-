{
 "cells": [
  {
   "cell_type": "markdown",
   "id": "56edf67d",
   "metadata": {},
   "source": [
    "Importing Necessary Libraries"
   ]
  },
  {
   "cell_type": "code",
   "execution_count": 1,
   "id": "532eadeb",
   "metadata": {},
   "outputs": [],
   "source": [
    "import pandas as pd\n",
    "import numpy as np\n",
    "import xgboost as xgb\n",
    "from sklearn.model_selection import train_test_split, GridSearchCV\n",
    "from sklearn.preprocessing import LabelEncoder, StandardScaler\n",
    "from sklearn.metrics import classification_report, confusion_matrix, accuracy_score\n",
    "from xgboost import XGBClassifier, plot_importance\n",
    "import matplotlib.pyplot as plt\n",
    "import joblib\n",
    "import warnings\n",
    "import warnings\n",
    "warnings.filterwarnings('ignore')\n"
   ]
  },
  {
   "cell_type": "markdown",
   "id": "e32f2bf5",
   "metadata": {},
   "source": [
    "Load required datasets"
   ]
  },
  {
   "cell_type": "code",
   "execution_count": 2,
   "id": "d1d10acd",
   "metadata": {},
   "outputs": [
    {
     "data": {
      "text/html": [
       "<div>\n",
       "<style scoped>\n",
       "    .dataframe tbody tr th:only-of-type {\n",
       "        vertical-align: middle;\n",
       "    }\n",
       "\n",
       "    .dataframe tbody tr th {\n",
       "        vertical-align: top;\n",
       "    }\n",
       "\n",
       "    .dataframe thead th {\n",
       "        text-align: right;\n",
       "    }\n",
       "</style>\n",
       "<table border=\"1\" class=\"dataframe\">\n",
       "  <thead>\n",
       "    <tr style=\"text-align: right;\">\n",
       "      <th></th>\n",
       "      <th>year</th>\n",
       "      <th>race_name</th>\n",
       "      <th>race_date</th>\n",
       "      <th>circuit_name</th>\n",
       "      <th>driverId</th>\n",
       "      <th>driver_name</th>\n",
       "      <th>driver_nationality</th>\n",
       "      <th>constructor</th>\n",
       "      <th>grid</th>\n",
       "      <th>positionOrder</th>\n",
       "      <th>points</th>\n",
       "      <th>status</th>\n",
       "      <th>championship_position</th>\n",
       "      <th>championship_points</th>\n",
       "    </tr>\n",
       "  </thead>\n",
       "  <tbody>\n",
       "    <tr>\n",
       "      <th>0</th>\n",
       "      <td>2013</td>\n",
       "      <td>Australian Grand Prix</td>\n",
       "      <td>03/17/2013</td>\n",
       "      <td>Albert Park Grand Prix Circuit</td>\n",
       "      <td>3</td>\n",
       "      <td>Nico Rosberg</td>\n",
       "      <td>German</td>\n",
       "      <td>Mercedes</td>\n",
       "      <td>6</td>\n",
       "      <td>20</td>\n",
       "      <td>0</td>\n",
       "      <td>Electrical</td>\n",
       "      <td>20</td>\n",
       "      <td>0</td>\n",
       "    </tr>\n",
       "    <tr>\n",
       "      <th>1</th>\n",
       "      <td>2004</td>\n",
       "      <td>Australian Grand Prix</td>\n",
       "      <td>07-03-2004</td>\n",
       "      <td>Albert Park Grand Prix Circuit</td>\n",
       "      <td>44</td>\n",
       "      <td>Olivier Panis</td>\n",
       "      <td>French</td>\n",
       "      <td>Toyota</td>\n",
       "      <td>18</td>\n",
       "      <td>13</td>\n",
       "      <td>0</td>\n",
       "      <td>+2 Laps</td>\n",
       "      <td>13</td>\n",
       "      <td>0</td>\n",
       "    </tr>\n",
       "    <tr>\n",
       "      <th>2</th>\n",
       "      <td>2005</td>\n",
       "      <td>Australian Grand Prix</td>\n",
       "      <td>06-03-2005</td>\n",
       "      <td>Albert Park Grand Prix Circuit</td>\n",
       "      <td>14</td>\n",
       "      <td>David Coulthard</td>\n",
       "      <td>British</td>\n",
       "      <td>Red Bull</td>\n",
       "      <td>5</td>\n",
       "      <td>4</td>\n",
       "      <td>5</td>\n",
       "      <td>Finished</td>\n",
       "      <td>4</td>\n",
       "      <td>5</td>\n",
       "    </tr>\n",
       "    <tr>\n",
       "      <th>3</th>\n",
       "      <td>2000</td>\n",
       "      <td>Australian Grand Prix</td>\n",
       "      <td>12-03-2000</td>\n",
       "      <td>Albert Park Grand Prix Circuit</td>\n",
       "      <td>25</td>\n",
       "      <td>Alexander Wurz</td>\n",
       "      <td>Austrian</td>\n",
       "      <td>Benetton</td>\n",
       "      <td>14</td>\n",
       "      <td>7</td>\n",
       "      <td>0</td>\n",
       "      <td>Finished</td>\n",
       "      <td>7</td>\n",
       "      <td>0</td>\n",
       "    </tr>\n",
       "    <tr>\n",
       "      <th>4</th>\n",
       "      <td>2015</td>\n",
       "      <td>Australian Grand Prix</td>\n",
       "      <td>03/15/2015</td>\n",
       "      <td>Albert Park Grand Prix Circuit</td>\n",
       "      <td>13</td>\n",
       "      <td>Felipe Massa</td>\n",
       "      <td>Brazilian</td>\n",
       "      <td>Williams</td>\n",
       "      <td>3</td>\n",
       "      <td>4</td>\n",
       "      <td>12</td>\n",
       "      <td>Finished</td>\n",
       "      <td>4</td>\n",
       "      <td>12</td>\n",
       "    </tr>\n",
       "  </tbody>\n",
       "</table>\n",
       "</div>"
      ],
      "text/plain": [
       "   year              race_name   race_date                    circuit_name  \\\n",
       "0  2013  Australian Grand Prix  03/17/2013  Albert Park Grand Prix Circuit   \n",
       "1  2004  Australian Grand Prix  07-03-2004  Albert Park Grand Prix Circuit   \n",
       "2  2005  Australian Grand Prix  06-03-2005  Albert Park Grand Prix Circuit   \n",
       "3  2000  Australian Grand Prix  12-03-2000  Albert Park Grand Prix Circuit   \n",
       "4  2015  Australian Grand Prix  03/15/2015  Albert Park Grand Prix Circuit   \n",
       "\n",
       "   driverId      driver_name driver_nationality constructor  grid  \\\n",
       "0         3     Nico Rosberg             German    Mercedes     6   \n",
       "1        44    Olivier Panis             French      Toyota    18   \n",
       "2        14  David Coulthard            British    Red Bull     5   \n",
       "3        25   Alexander Wurz           Austrian    Benetton    14   \n",
       "4        13     Felipe Massa          Brazilian    Williams     3   \n",
       "\n",
       "   positionOrder  points      status  championship_position  \\\n",
       "0             20       0  Electrical                     20   \n",
       "1             13       0     +2 Laps                     13   \n",
       "2              4       5    Finished                      4   \n",
       "3              7       0    Finished                      7   \n",
       "4              4      12    Finished                      4   \n",
       "\n",
       "   championship_points  \n",
       "0                    0  \n",
       "1                    0  \n",
       "2                    5  \n",
       "3                    0  \n",
       "4                   12  "
      ]
     },
     "execution_count": 2,
     "metadata": {},
     "output_type": "execute_result"
    }
   ],
   "source": [
    "df = pd.read_csv('C:\\\\Users\\\\sanskruti\\\\OneDrive\\\\Desktop\\\\formula1csv\\\\merged.csv')  \n",
    "df.head()\n"
   ]
  },
  {
   "cell_type": "markdown",
   "id": "d4a71953",
   "metadata": {},
   "source": [
    "Clean and encoding process"
   ]
  },
  {
   "cell_type": "code",
   "execution_count": 3,
   "id": "024efc1a",
   "metadata": {},
   "outputs": [],
   "source": [
    "# Drop irrelevant or leakage columns\n",
    "df = df.drop(['race_name', 'race_date'], axis=1, errors='ignore')\n",
    "\n",
    "# Encode categorical columns\n",
    "cat_cols = df.select_dtypes(include='object').columns\n",
    "encoders = {}\n",
    "\n",
    "for col in cat_cols:\n",
    "    enc = LabelEncoder()\n",
    "    df[col] = enc.fit_transform(df[col])\n",
    "    encoders[col] = enc  # Save encoders for later use\n",
    "\n",
    "# Define features and label\n",
    "X = df.drop('positionOrder', axis=1)\n",
    "y = df['positionOrder'].clip(upper=10) - 1  # Now classes are 0–9\n",
    "\n",
    "\n"
   ]
  },
  {
   "cell_type": "markdown",
   "id": "d61fa6be",
   "metadata": {},
   "source": [
    "Split and train"
   ]
  },
  {
   "cell_type": "code",
   "execution_count": 4,
   "id": "6e103175",
   "metadata": {},
   "outputs": [],
   "source": [
    "X_train, X_test, y_train, y_test = train_test_split(X, y, test_size=0.2, stratify=y, random_state=42)\n"
   ]
  },
  {
   "cell_type": "markdown",
   "id": "e5c8b584",
   "metadata": {},
   "source": [
    "Train the XGBoost Model"
   ]
  },
  {
   "cell_type": "code",
   "execution_count": 5,
   "id": "f898ad97",
   "metadata": {},
   "outputs": [
    {
     "data": {
      "text/html": [
       "<style>#sk-container-id-1 {color: black;background-color: white;}#sk-container-id-1 pre{padding: 0;}#sk-container-id-1 div.sk-toggleable {background-color: white;}#sk-container-id-1 label.sk-toggleable__label {cursor: pointer;display: block;width: 100%;margin-bottom: 0;padding: 0.3em;box-sizing: border-box;text-align: center;}#sk-container-id-1 label.sk-toggleable__label-arrow:before {content: \"▸\";float: left;margin-right: 0.25em;color: #696969;}#sk-container-id-1 label.sk-toggleable__label-arrow:hover:before {color: black;}#sk-container-id-1 div.sk-estimator:hover label.sk-toggleable__label-arrow:before {color: black;}#sk-container-id-1 div.sk-toggleable__content {max-height: 0;max-width: 0;overflow: hidden;text-align: left;background-color: #f0f8ff;}#sk-container-id-1 div.sk-toggleable__content pre {margin: 0.2em;color: black;border-radius: 0.25em;background-color: #f0f8ff;}#sk-container-id-1 input.sk-toggleable__control:checked~div.sk-toggleable__content {max-height: 200px;max-width: 100%;overflow: auto;}#sk-container-id-1 input.sk-toggleable__control:checked~label.sk-toggleable__label-arrow:before {content: \"▾\";}#sk-container-id-1 div.sk-estimator input.sk-toggleable__control:checked~label.sk-toggleable__label {background-color: #d4ebff;}#sk-container-id-1 div.sk-label input.sk-toggleable__control:checked~label.sk-toggleable__label {background-color: #d4ebff;}#sk-container-id-1 input.sk-hidden--visually {border: 0;clip: rect(1px 1px 1px 1px);clip: rect(1px, 1px, 1px, 1px);height: 1px;margin: -1px;overflow: hidden;padding: 0;position: absolute;width: 1px;}#sk-container-id-1 div.sk-estimator {font-family: monospace;background-color: #f0f8ff;border: 1px dotted black;border-radius: 0.25em;box-sizing: border-box;margin-bottom: 0.5em;}#sk-container-id-1 div.sk-estimator:hover {background-color: #d4ebff;}#sk-container-id-1 div.sk-parallel-item::after {content: \"\";width: 100%;border-bottom: 1px solid gray;flex-grow: 1;}#sk-container-id-1 div.sk-label:hover label.sk-toggleable__label {background-color: #d4ebff;}#sk-container-id-1 div.sk-serial::before {content: \"\";position: absolute;border-left: 1px solid gray;box-sizing: border-box;top: 0;bottom: 0;left: 50%;z-index: 0;}#sk-container-id-1 div.sk-serial {display: flex;flex-direction: column;align-items: center;background-color: white;padding-right: 0.2em;padding-left: 0.2em;position: relative;}#sk-container-id-1 div.sk-item {position: relative;z-index: 1;}#sk-container-id-1 div.sk-parallel {display: flex;align-items: stretch;justify-content: center;background-color: white;position: relative;}#sk-container-id-1 div.sk-item::before, #sk-container-id-1 div.sk-parallel-item::before {content: \"\";position: absolute;border-left: 1px solid gray;box-sizing: border-box;top: 0;bottom: 0;left: 50%;z-index: -1;}#sk-container-id-1 div.sk-parallel-item {display: flex;flex-direction: column;z-index: 1;position: relative;background-color: white;}#sk-container-id-1 div.sk-parallel-item:first-child::after {align-self: flex-end;width: 50%;}#sk-container-id-1 div.sk-parallel-item:last-child::after {align-self: flex-start;width: 50%;}#sk-container-id-1 div.sk-parallel-item:only-child::after {width: 0;}#sk-container-id-1 div.sk-dashed-wrapped {border: 1px dashed gray;margin: 0 0.4em 0.5em 0.4em;box-sizing: border-box;padding-bottom: 0.4em;background-color: white;}#sk-container-id-1 div.sk-label label {font-family: monospace;font-weight: bold;display: inline-block;line-height: 1.2em;}#sk-container-id-1 div.sk-label-container {text-align: center;}#sk-container-id-1 div.sk-container {/* jupyter's `normalize.less` sets `[hidden] { display: none; }` but bootstrap.min.css set `[hidden] { display: none !important; }` so we also need the `!important` here to be able to override the default hidden behavior on the sphinx rendered scikit-learn.org. See: https://github.com/scikit-learn/scikit-learn/issues/21755 */display: inline-block !important;position: relative;}#sk-container-id-1 div.sk-text-repr-fallback {display: none;}</style><div id=\"sk-container-id-1\" class=\"sk-top-container\"><div class=\"sk-text-repr-fallback\"><pre>XGBClassifier(base_score=None, booster=None, callbacks=None,\n",
       "              colsample_bylevel=None, colsample_bynode=None,\n",
       "              colsample_bytree=None, device=None, early_stopping_rounds=None,\n",
       "              enable_categorical=False, eval_metric=&#x27;mlogloss&#x27;,\n",
       "              feature_types=None, gamma=None, grow_policy=None,\n",
       "              importance_type=None, interaction_constraints=None,\n",
       "              learning_rate=0.1, max_bin=None, max_cat_threshold=None,\n",
       "              max_cat_to_onehot=None, max_delta_step=None, max_depth=6,\n",
       "              max_leaves=None, min_child_weight=None, missing=nan,\n",
       "              monotone_constraints=None, multi_strategy=None, n_estimators=150,\n",
       "              n_jobs=None, num_class=10, num_parallel_tree=None, ...)</pre><b>In a Jupyter environment, please rerun this cell to show the HTML representation or trust the notebook. <br />On GitHub, the HTML representation is unable to render, please try loading this page with nbviewer.org.</b></div><div class=\"sk-container\" hidden><div class=\"sk-item\"><div class=\"sk-estimator sk-toggleable\"><input class=\"sk-toggleable__control sk-hidden--visually\" id=\"sk-estimator-id-1\" type=\"checkbox\" checked><label for=\"sk-estimator-id-1\" class=\"sk-toggleable__label sk-toggleable__label-arrow\">XGBClassifier</label><div class=\"sk-toggleable__content\"><pre>XGBClassifier(base_score=None, booster=None, callbacks=None,\n",
       "              colsample_bylevel=None, colsample_bynode=None,\n",
       "              colsample_bytree=None, device=None, early_stopping_rounds=None,\n",
       "              enable_categorical=False, eval_metric=&#x27;mlogloss&#x27;,\n",
       "              feature_types=None, gamma=None, grow_policy=None,\n",
       "              importance_type=None, interaction_constraints=None,\n",
       "              learning_rate=0.1, max_bin=None, max_cat_threshold=None,\n",
       "              max_cat_to_onehot=None, max_delta_step=None, max_depth=6,\n",
       "              max_leaves=None, min_child_weight=None, missing=nan,\n",
       "              monotone_constraints=None, multi_strategy=None, n_estimators=150,\n",
       "              n_jobs=None, num_class=10, num_parallel_tree=None, ...)</pre></div></div></div></div></div>"
      ],
      "text/plain": [
       "XGBClassifier(base_score=None, booster=None, callbacks=None,\n",
       "              colsample_bylevel=None, colsample_bynode=None,\n",
       "              colsample_bytree=None, device=None, early_stopping_rounds=None,\n",
       "              enable_categorical=False, eval_metric='mlogloss',\n",
       "              feature_types=None, gamma=None, grow_policy=None,\n",
       "              importance_type=None, interaction_constraints=None,\n",
       "              learning_rate=0.1, max_bin=None, max_cat_threshold=None,\n",
       "              max_cat_to_onehot=None, max_delta_step=None, max_depth=6,\n",
       "              max_leaves=None, min_child_weight=None, missing=nan,\n",
       "              monotone_constraints=None, multi_strategy=None, n_estimators=150,\n",
       "              n_jobs=None, num_class=10, num_parallel_tree=None, ...)"
      ]
     },
     "execution_count": 5,
     "metadata": {},
     "output_type": "execute_result"
    }
   ],
   "source": [
    "model = xgb.XGBClassifier(\n",
    "    objective='multi:softmax',\n",
    "    num_class=10,\n",
    "    eval_metric='mlogloss',\n",
    "    learning_rate=0.1,\n",
    "    max_depth=6,\n",
    "    n_estimators=150,\n",
    "    use_label_encoder=False,\n",
    "    random_state=42\n",
    ")\n",
    "\n",
    "model.fit(X_train, y_train)\n",
    "\n"
   ]
  },
  {
   "cell_type": "markdown",
   "id": "0b5daf30",
   "metadata": {},
   "source": [
    "Evaluate the Model"
   ]
  },
  {
   "cell_type": "code",
   "execution_count": 6,
   "id": "f042440b",
   "metadata": {},
   "outputs": [
    {
     "name": "stdout",
     "output_type": "stream",
     "text": [
      "Accuracy Score: 0.885\n",
      "Classification Report:\n",
      "               precision    recall  f1-score   support\n",
      "\n",
      "           0       1.00      0.86      0.92         7\n",
      "           1       0.80      1.00      0.89         8\n",
      "           2       0.83      0.71      0.77         7\n",
      "           3       0.75      0.75      0.75         8\n",
      "           4       0.92      1.00      0.96        12\n",
      "           5       0.89      0.89      0.89         9\n",
      "           6       1.00      0.70      0.82        10\n",
      "           7       1.00      0.33      0.50         9\n",
      "           8       0.00      0.00      0.00         8\n",
      "           9       0.90      1.00      0.95       122\n",
      "\n",
      "    accuracy                           0.89       200\n",
      "   macro avg       0.81      0.72      0.74       200\n",
      "weighted avg       0.86      0.89      0.86       200\n",
      "\n"
     ]
    }
   ],
   "source": [
    "y_pred = model.predict(X_test)\n",
    "\n",
    "print(\"Accuracy Score:\", accuracy_score(y_test, y_pred))\n",
    "print(\"Classification Report:\\n\", classification_report(y_test, y_pred, zero_division=1))\n"
   ]
  },
  {
   "cell_type": "markdown",
   "id": "9dec7dff",
   "metadata": {},
   "source": [
    "Saving prediction model and encoders for futher predictions"
   ]
  },
  {
   "cell_type": "code",
   "execution_count": 7,
   "id": "d49e3b12",
   "metadata": {},
   "outputs": [
    {
     "data": {
      "text/plain": [
       "['f1_position_model.pkl']"
      ]
     },
     "execution_count": 7,
     "metadata": {},
     "output_type": "execute_result"
    }
   ],
   "source": [
    "joblib.dump(model, 'f1_position_model.pkl')\n"
   ]
  },
  {
   "cell_type": "markdown",
   "id": "42fda745",
   "metadata": {},
   "source": [
    "Load Model Later"
   ]
  },
  {
   "cell_type": "code",
   "execution_count": 8,
   "id": "1a29ba5f",
   "metadata": {},
   "outputs": [],
   "source": [
    "model = joblib.load('f1_position_model.pkl')\n"
   ]
  },
  {
   "cell_type": "markdown",
   "id": "c5fd7f21",
   "metadata": {},
   "source": [
    " Make a Prediction on New Sample"
   ]
  },
  {
   "cell_type": "code",
   "execution_count": 9,
   "id": "9637c17b",
   "metadata": {},
   "outputs": [
    {
     "name": "stdout",
     "output_type": "stream",
     "text": [
      "Predicted Final Position (1–10): 3\n"
     ]
    }
   ],
   "source": [
    "# Example: Use one row from test set\n",
    "sample = X_test.iloc[[0]]\n",
    "prediction = model.predict(sample)\n",
    "\n",
    "print(\"Predicted Final Position (1–10):\", prediction[0] + 1)\n"
   ]
  },
  {
   "cell_type": "markdown",
   "id": "126e4800",
   "metadata": {},
   "source": [
    "Plotting feature importance and confusion matrix"
   ]
  },
  {
   "cell_type": "code",
   "execution_count": 10,
   "id": "8eabfdce",
   "metadata": {},
   "outputs": [
    {
     "data": {
      "text/plain": [
       "<Figure size 864x576 with 0 Axes>"
      ]
     },
     "metadata": {},
     "output_type": "display_data"
    },
    {
     "data": {
      "image/png": "[encoded data removed]",
      "text/plain": [
       "<Figure size 432x288 with 1 Axes>"
      ]
     },
     "metadata": {
      "needs_background": "light"
     },
     "output_type": "display_data"
    }
   ],
   "source": [
    "# Assuming your model is already trained:\n",
    "model = XGBClassifier(eval_metric='mlogloss')\n",
    "model.fit(X_train, y_train)\n",
    "\n",
    "# Plot feature importance\n",
    "plt.figure(figsize=(12, 8))\n",
    "plot_importance(model, max_num_features=15, importance_type='gain')  # or 'weight', 'cover'\n",
    "plt.title('XGBoost Feature Importance')\n",
    "plt.show()"
   ]
  },
  {
   "cell_type": "code",
   "execution_count": 11,
   "id": "aed7838a",
   "metadata": {},
   "outputs": [
    {
     "data": {
      "image/png": "[encoded data removed]",
      "text/plain": [
       "<Figure size 432x288 with 2 Axes>"
      ]
     },
     "metadata": {
      "needs_background": "light"
     },
     "output_type": "display_data"
    }
   ],
   "source": [
    "from sklearn.metrics import confusion_matrix, ConfusionMatrixDisplay\n",
    "import matplotlib.pyplot as plt\n",
    "\n",
    "# Predict on test set\n",
    "y_pred = model.predict(X_test)\n",
    "\n",
    "# Create confusion matrix\n",
    "cm = confusion_matrix(y_test, y_pred)\n",
    "\n",
    "# Plot the confusion matrix\n",
    "disp = ConfusionMatrixDisplay(confusion_matrix=cm)\n",
    "disp.plot(cmap='Blues')\n",
    "\n",
    "plt.title('Confusion Matrix')\n",
    "plt.show()\n"
   ]
  },
  {
   "cell_type": "code",
   "execution_count": null,
   "id": "a4335447",
   "metadata": {},
   "outputs": [],
   "source": []
  }
 ],
 "metadata": {
  "kernelspec": {
   "display_name": "Python 3 (ipykernel)",
   "language": "python",
   "name": "python3"
  },
  "language_info": {
   "codemirror_mode": {
    "name": "ipython",
    "version": 3
   },
   "file_extension": ".py",
   "mimetype": "text/x-python",
   "name": "python",
   "nbconvert_exporter": "python",
   "pygments_lexer": "ipython3",
   "version": "3.9.7"
  }
 },
 "nbformat": 4,
 "nbformat_minor": 5
}
